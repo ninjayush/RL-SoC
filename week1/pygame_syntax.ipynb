{
 "cells": [
  {
   "cell_type": "markdown",
   "id": "aaf3ba75",
   "metadata": {},
   "source": [
    "# **Pygame Syntax**"
   ]
  },
  {
   "cell_type": "markdown",
   "id": "2f609857",
   "metadata": {},
   "source": [
    "### Importing and initializing"
   ]
  },
  {
   "cell_type": "code",
   "execution_count": null,
   "id": "e24cf6c2",
   "metadata": {},
   "outputs": [
    {
     "data": {
      "text/plain": [
       "(5, 0)"
      ]
     },
     "execution_count": 18,
     "metadata": {},
     "output_type": "execute_result"
    }
   ],
   "source": [
    "import pygame\n",
    "import time\n",
    "import sys\n",
    "\n",
    "pygame.init()"
   ]
  },
  {
   "cell_type": "markdown",
   "id": "560e5417",
   "metadata": {},
   "source": [
    "### Surface"
   ]
  },
  {
   "cell_type": "code",
   "execution_count": null,
   "id": "7b232834",
   "metadata": {},
   "outputs": [],
   "source": [
    "# Create a new surface of size 100x100\n",
    "screen = pygame.display.set_mode(size=(0, 0), flags=0, depth=0, display=0, vsync=0) #-> Surface\n",
    "x, y = screen.get_size()    \n",
    "\n",
    "surface= pygame.Surface((width, height), flags=0, depth=0, masks=None) #-> Surface\n",
    "# Fill the surface with a color\n",
    "color= (0, 255, 0) #rgb color\n",
    "\n",
    "surface.fill(color)  # Fill with color\n",
    "# it takes 4 arguments: a tuple of width and height, flags, depth, mask.\n",
    "screen.blit(source, dest, area=None, special_flags=0)\n",
    "\n",
    "pygame.Surface.convert(Surface=None)    # creates a copy and converts to a different\n",
    "pygame.Surface.convert_alpha(Surface) # convert to the display format with alpha channel\n",
    "pygame.Surface.copy()                 #It creates a new copy of the surfaceformat\n",
    "\n",
    "pygame.Surface.set_colorkey(Color, flags=0) \n",
    "\n",
    "pygame.Surface.set_colorkey (image, [255,255,255]) #transparency\n",
    "\n",
    "pygame.Surface.get_colorkey(image)\n",
    "\n",
    "pygame.Surface.set_alpha(value, flags=0)\n",
    "\n",
    "pygame.Surface.get_alpha(image)\n",
    "\n",
    "pygame.display.flip() #must do\n",
    "\n",
    "\n"
   ]
  },
  {
   "cell_type": "markdown",
   "id": "b502ef94",
   "metadata": {},
   "source": [
    "### Drawing"
   ]
  },
  {
   "cell_type": "code",
   "execution_count": null,
   "id": "40f4c770",
   "metadata": {},
   "outputs": [],
   "source": [
    "pygame.draw.rect(surface, color, rect, width=0, border_radius=0, border_top_left_radius=-1, border_top_right_radius=-1, border_bottom_left_radius=-1, border_bottom_right_radius=-1) #-> Rect\n",
    "# rect (Rect) -- rectangle to draw, position and dimensions\n",
    "\n",
    "pygame.draw.circle(surface, color, center, radius, width) #width=0 gives solid circle\n",
    "\n",
    "pygame.draw.polygon(surface, color, points, width)\n",
    "\n",
    "pygame.draw.line(surface, color, start_pos, end_pos, width)\n",
    "\n",
    "def drawingfunction(x, y, width, height):\n",
    "\n",
    "    # Creating rectangle using the draw.rect() method\n",
    "    pygame.draw.rect(surface, (0, 0, 255), [x, y, width, height])\n",
    "\n",
    "    # Calculation the center of the circle\n",
    "    circle_x = width/2 + x\n",
    "    circle_y = height/2 + y\n",
    "\n",
    "    # Calculating the radius of the circle\n",
    "    if height < width:\n",
    "        radius = height/2\n",
    "    else:\n",
    "        radius = width/2\n",
    "\n",
    "    # Drawing the circle\n",
    "    pygame.draw.circle(window, (0, 255, 0), [circle_x, circle_y], radius)\n",
    "\n",
    "# run window to get mousepointer position\n",
    "'''elif event.type == MOUSEBUTTONDOWN:\n",
    "            position = event.pos\n",
    "            circle_positions.append(position)'''\n",
    "\n",
    "pygame.display.flip() #must do"
   ]
  },
  {
   "cell_type": "markdown",
   "id": "be68fedf",
   "metadata": {},
   "source": [
    "### Title and Icon"
   ]
  },
  {
   "cell_type": "code",
   "execution_count": null,
   "id": "4dfdc7e4",
   "metadata": {},
   "outputs": [],
   "source": [
    "# .set_caption() and .set_icon()  \n",
    "# Examples:  \n",
    "Icon = pygame.image.load('gfglogo.png') ##for any image file  \n",
    "#it's a surface!\n",
    "#must be in the same directory as this script or provide full path\n",
    "pygame.display.set_caption('resizable')  \n",
    "pygame.display.set_icon(Icon)\n",
    "# .get_caption() and .get_icon()    \n",
    "print(pygame.display.get_caption())\n",
    "\n",
    "screen.blit(Icon,(0,0))\n",
    "\n",
    "pygame.display.flip() #must do"
   ]
  },
  {
   "cell_type": "markdown",
   "id": "1db1a8b3",
   "metadata": {},
   "source": [
    "### Text"
   ]
  },
  {
   "cell_type": "code",
   "execution_count": null,
   "id": "ab9b47d6",
   "metadata": {},
   "outputs": [],
   "source": [
    "# Create a font file by passing font file\n",
    "# and size of the font\n",
    "font1 = pygame.font.SysFont('freesanbold.ttf', 50)\n",
    "font2 = pygame.font.SysFont('chalkduster.ttf', 40)\n",
    "\n",
    "# Render the texts that you want to display\n",
    "text1 = font1.render('GeeksForGeeks', True, (0, 255, 0))\n",
    "\n",
    "# create a rectangular object for the\n",
    "# text surface object\n",
    "textRect1 = text1.get_rect()\n",
    "\n",
    "# setting center for the text\n",
    "textRect1.center = (250, 250)\n",
    "\n",
    "# copying the text surface objects\n",
    "# to the display surface objects\n",
    "# at the center coordinate.\n",
    "surface.blit(text1, textRect1)\n",
    "\n",
    "# update the display\n",
    "pygame.display.update()"
   ]
  },
  {
   "cell_type": "markdown",
   "id": "f05accb9",
   "metadata": {},
   "source": [
    "### Image"
   ]
  },
  {
   "cell_type": "code",
   "execution_count": null,
   "id": "f7446c8d",
   "metadata": {},
   "outputs": [],
   "source": []
  },
  {
   "cell_type": "markdown",
   "id": "769ef01a",
   "metadata": {},
   "source": [
    "### Time"
   ]
  },
  {
   "cell_type": "code",
   "execution_count": null,
   "id": "2dd49293",
   "metadata": {},
   "outputs": [],
   "source": [
    "pygame.time.wait(x)  #x in ms + uses sleep, It is slightly less accurate than pygame.time.delay\n",
    "ticks=pygame.time.get_ticks()()  #returns the number of milliseconds since pygame.init() was called\n",
    "pygame.time.delay(x)  #x in ms, It is more accurate than pygame.time.wait coz it uses processor\n",
    "pygame.time.Clock   #returns a clock object that can be used to control the frame rate of the game\n",
    "#Clock methods:\n",
    "clock = pygame.time.Clock()\n",
    "clock.tick()    #This method should be called once per frame. It will compute how many milliseconds have passed since the previous call.\n",
    "clock.tick(60)  #limits the frame rate to 60 FPS    \n",
    "clock.get_time() #It is used to obtain a number of milliseconds used between two tick().\n",
    "clock.get_fps() #It gives information regarding the clock frame rate. it returns the output in floating-point value."
   ]
  },
  {
   "cell_type": "markdown",
   "id": "654f5877",
   "metadata": {},
   "source": [
    "### Event Handling"
   ]
  },
  {
   "cell_type": "code",
   "execution_count": null,
   "id": "42bbcf99",
   "metadata": {},
   "outputs": [],
   "source": [
    "#WASD keys\n",
    "for event in pygame.event.get():\n",
    "    if event.type == pygame.KEYDOWN:\n",
    "        if event.key == pygame.K_w:\n",
    "            print(\"Move the character forwards\")\n",
    "        elif event.key == pygame.K_s:\n",
    "            print(\"Move the character backwards\")\n",
    "        elif event.key == pygame.K_a:\n",
    "            print(\"Move the character left\")\n",
    "        elif event.key == pygame.K_d:\n",
    "            print(\"Move the character right\")\n",
    "\n",
    "'''\n",
    "Event\t                Attributes\n",
    "KEYDOWN \t        key, mod, unicode\n",
    "KEYUP\t                key, mod\n",
    "MOUSEBUTTONUP \t   pos, button\n",
    "MOUSEBUTTONDOWN\t   pos, button\n",
    "MOUSEMOTION\t    pos, rel, buttons\n",
    "QUIT\t                    -\n",
    "\n",
    "\n",
    "# SR No.\tButton\tValue\n",
    "# 1.\tLeft mouse button \t1\n",
    "# 2.\tMouse wheel button\t2\n",
    "# 3.\tRight mouse button \t3\n",
    "# 4.\tMouse wheel scroll up\t4\n",
    "# 5.\tMouse wheel scroll down\t5\n",
    "\n",
    "custom event\n",
    "# Step 1 - Convert event into event datatype of pygame \n",
    "ADD_event = pygame.event.Event(event)\n",
    "\n",
    "# Step 2 - Post the event\n",
    "pygame.event.post(ADD_event)    # event_name as parameter\n",
    "\n",
    "# event_name, time in ms\n",
    "pygame.time.set_timer(event, duration)   '''\n",
    "\n",
    "# https://www.geeksforgeeks.org/how-to-get-keyboard-input-in-pygame/\n",
    "\n"
   ]
  },
  {
   "cell_type": "markdown",
   "id": "95aabf42",
   "metadata": {},
   "source": [
    "### Run Window"
   ]
  },
  {
   "cell_type": "code",
   "execution_count": null,
   "id": "ec9e049d",
   "metadata": {},
   "outputs": [],
   "source": [
    "running = True  \n",
    "while running:  \n",
    "    for event in pygame.event.get():  \n",
    "        if event.type == pygame.QUIT:  \n",
    "            running = False  \n",
    "\n",
    "    pygame.display.flip()\n",
    "    # pygame.display.update()"
   ]
  },
  {
   "cell_type": "code",
   "execution_count": null,
   "id": "0fe976e3",
   "metadata": {},
   "outputs": [],
   "source": [
    "# quit pygame after closing window\n",
    "pygame.quit()"
   ]
  },
  {
   "cell_type": "markdown",
   "id": "d5aaa5e1",
   "metadata": {},
   "source": [
    "### Music"
   ]
  },
  {
   "cell_type": "code",
   "execution_count": null,
   "id": "05a2e9fc",
   "metadata": {},
   "outputs": [],
   "source": [
    "from pygame import mixer\n",
    "\n",
    "# Starting the mixer\n",
    "mixer.init()\n",
    "\n",
    "# Loading the song\n",
    "mixer.music.load(\"song.mp3\")\n",
    "\n",
    "# Setting the volume\n",
    "mixer.music.set_volume(0.7)\n",
    "\n",
    "# Start playing the song\n",
    "mixer.music.play()\n",
    "\n",
    "# infinite loop\n",
    "while True:\n",
    "    \n",
    "    print(\"Press 'p' to pause, 'r' to resume\")\n",
    "    print(\"Press 'e' to exit the program\")\n",
    "    query = input(\"  \")\n",
    "    \n",
    "    if query == 'p':\n",
    "\n",
    "        # Pausing the music\n",
    "        mixer.music.pause()     \n",
    "    elif query == 'r':\n",
    "\n",
    "        # Resuming the music\n",
    "        mixer.music.unpause()\n",
    "    elif query == 'e':\n",
    "\n",
    "        # Stop the mixer\n",
    "        mixer.music.stop()\n",
    "        break"
   ]
  }
 ],
 "metadata": {
  "kernelspec": {
   "display_name": "Python 3",
   "language": "python",
   "name": "python3"
  },
  "language_info": {
   "codemirror_mode": {
    "name": "ipython",
    "version": 3
   },
   "file_extension": ".py",
   "mimetype": "text/x-python",
   "name": "python",
   "nbconvert_exporter": "python",
   "pygments_lexer": "ipython3",
   "version": "3.13.0"
  }
 },
 "nbformat": 4,
 "nbformat_minor": 5
}
